{
 "cells": [
  {
   "cell_type": "code",
   "execution_count": 27,
   "id": "4fce4083",
   "metadata": {},
   "outputs": [],
   "source": [
    "file = open('/Users/doyoung/학교/Python_Programming_JupyterNotebook/데이터/input.txt', 'r', encoding='utf-8')\n",
    "data = file.readlines()\n",
    "char_list = data[0].split(' ')  #공백을 기준으로 데이터 자르기 -> 문자형으로 저장\n",
    "\n",
    "data_list = []\n",
    "for ch in char_list:  #문자형으로 저장된 데이터를 정수형으로 변환하여 data_list에 저장\n",
    "    data_list.append(int(ch))"
   ]
  },
  {
   "cell_type": "code",
   "execution_count": 28,
   "id": "560dae4e",
   "metadata": {},
   "outputs": [
    {
     "name": "stdout",
     "output_type": "stream",
     "text": [
      "num : 11 \t count : [1, 0, 0, 0] \t cache : [11]\n",
      "num : 0 \t count : [2, 1, 0, 0] \t cache : [11, 0]\n",
      "num : 22 \t count : [3, 2, 1, 0] \t cache : [11, 0, 22]\n",
      "num : 10 \t count : [4, 3, 2, 1] \t cache : [11, 0, 22, 10]\n",
      "num : 33 \t count : [1, 4, 3, 2] \t cache : [33, 0, 22, 10]\n",
      "num : 40 \t count : [2, 1, 4, 3] \t cache : [33, 40, 22, 10]\n",
      "num : 11 \t count : [3, 2, 1, 4] \t cache : [33, 40, 11, 10]\n",
      "num : 0 \t count : [4, 3, 2, 1] \t cache : [33, 40, 11, 0]\n",
      "num : 20 \t count : [1, 4, 3, 2] \t cache : [20, 40, 11, 0]\n",
      "num : 22 \t count : [2, 1, 4, 3] \t cache : [20, 22, 11, 0]\n",
      "num : 19 \t count : [3, 2, 1, 4] \t cache : [20, 22, 19, 0]\n",
      "num : 30 \t count : [4, 3, 2, 1] \t cache : [20, 22, 19, 30]\n",
      "num : 30 \t count : [5, 4, 3, 1] \t cache : [20, 22, 19, 30]\n",
      "num : 18 \t count : [1, 5, 4, 2] \t cache : [18, 22, 19, 30]\n",
      "num : 11 \t count : [2, 1, 5, 3] \t cache : [18, 11, 19, 30]\n",
      "num : 20 \t count : [3, 2, 1, 4] \t cache : [18, 11, 20, 30]\n",
      "num : 22 \t count : [4, 3, 2, 1] \t cache : [18, 11, 20, 22]\n",
      "num : 22 \t count : [5, 4, 3, 1] \t cache : [18, 11, 20, 22]\n",
      "num : 60 \t count : [1, 5, 4, 2] \t cache : [60, 11, 20, 22]\n",
      "num : 97 \t count : [2, 1, 5, 3] \t cache : [60, 97, 20, 22]\n",
      "num : 0 \t count : [3, 2, 1, 4] \t cache : [60, 97, 0, 22]\n",
      "num : 11 \t count : [4, 3, 2, 1] \t cache : [60, 97, 0, 11]\n",
      "num : 40 \t count : [1, 4, 3, 2] \t cache : [40, 97, 0, 11]\n",
      "num : 22 \t count : [2, 1, 4, 3] \t cache : [40, 22, 0, 11]\n",
      "num : 56 \t count : [3, 2, 1, 4] \t cache : [40, 22, 56, 11]\n",
      "num : 22 \t count : [4, 1, 2, 5] \t cache : [40, 22, 56, 11]\n",
      "num : 22 \t count : [5, 1, 3, 6] \t cache : [40, 22, 56, 11]\n",
      "num : 10 \t count : [6, 2, 4, 1] \t cache : [40, 22, 56, 10]\n",
      "num : 4 \t count : [1, 3, 5, 2] \t cache : [4, 22, 56, 10]\n",
      "num : 0 \t count : [2, 4, 1, 3] \t cache : [4, 22, 0, 10]\n",
      "1번 캐시 블록 값 : 4\n",
      "2번 캐시 블록 값 : 22\n",
      "3번 캐시 블록 값 : 0\n",
      "4번 캐시 블록 값 : 10\n",
      "적중률 : 4 / 30\n"
     ]
    }
   ],
   "source": [
    "capacity = 4  #캐시 블록 수 설정\n",
    "count = [0 for i in range(capacity)]  #설정한 캐시 블록 수만큼 count 블록 생성\n",
    "cache = []  #캐시 블록 공간\n",
    "hit = 0  #hit 횟수 count\n",
    "\n",
    "for num in data_list:  #저장한 데이터를 num 변수로 하나씩 가져옴\n",
    "    if num == 99:  #num값이 99일 경우\n",
    "        break #프로그램 종료\n",
    "    else:\n",
    "        if num in cache:  #캐시 블록 안에 num이 존재할 때\n",
    "            hit += 1  #hit 수 증가\n",
    "            count[cache.index(num)] = 0  #count에 저장된 수 0으로 초기화\n",
    "            for i in range (0, len(count)):  #count값 1씩 증가\n",
    "                count[i] += 1\n",
    "            print(\"num : {} \\t count : {} \\t cache : {}\".format(num, count, cache))\n",
    "        else:  #캐시 블록 안에 num이 없을 때\n",
    "            if (len(cache) == capacity):  #캐시 공간이 가득 차있을 경우\n",
    "                max_count = count.index(max(count))  #count에 가장 큰 값의 위치를 저장하는 변수\n",
    "                del cache[max_count]  #count에 가장 큰 값에 위치와 같은 위치에 저장된 캐시 블록에 있는 블록 번호 삭제\n",
    "                cache.insert(max_count, num)  #같은 자리에 새로 입력된 num 저장\n",
    "                count[max_count] = 0  #같은 자리에 있는 count값을 0으로 초기화\n",
    "                for i in range(0, len(cache)):  #count값 1씩 증가\n",
    "                    count[i] += 1\n",
    "                print(\"num : {} \\t count : {} \\t cache : {}\".format(num, count, cache))\n",
    "            else:  #캐시 공간이 가득 차 있지 않을 경우\n",
    "                cache.append(num)  #캐시 공간에 num 값 저장\n",
    "                for i in range(0, len(cache)):\n",
    "                    count[i] += 1  #count값 1씩 증가\n",
    "                print(\"num : {} \\t count : {} \\t cache : {}\".format(num, count, cache))\n",
    "                       \n",
    "for i in range(0, len(cache)):\n",
    "    print(\"{}번 캐시 블록 값 : {}\".format(i+1, cache[i]))\n",
    "print(\"적중률 : {} / {}\".format(hit, len(data_list) - 1))"
   ]
  },
  {
   "cell_type": "code",
   "execution_count": null,
   "id": "65c43dbd",
   "metadata": {},
   "outputs": [],
   "source": []
  }
 ],
 "metadata": {
  "kernelspec": {
   "display_name": "Python 3 (ipykernel)",
   "language": "python",
   "name": "python3"
  },
  "language_info": {
   "codemirror_mode": {
    "name": "ipython",
    "version": 3
   },
   "file_extension": ".py",
   "mimetype": "text/x-python",
   "name": "python",
   "nbconvert_exporter": "python",
   "pygments_lexer": "ipython3",
   "version": "3.9.12"
  }
 },
 "nbformat": 4,
 "nbformat_minor": 5
}
