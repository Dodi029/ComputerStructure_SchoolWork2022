{
 "cells": [
  {
   "cell_type": "code",
   "execution_count": 2,
   "id": "47399642",
   "metadata": {},
   "outputs": [],
   "source": [
    "import os\n",
    "os.getcwd()\n",
    "\n",
    "f = open('/Users/doyoung/학교/Python_Programming_JupyterNotebook/데이터/input.txt', 'r', encoding='utf-8')\n",
    "reference = f.readlines()\n",
    "f.close()\n",
    "\n",
    "data = reference[0].split(' ')\n",
    "int_data = []\n",
    "for num in data:\n",
    "    int_data.append(int(num))"
   ]
  },
  {
   "cell_type": "code",
   "execution_count": 3,
   "id": "417f2682",
   "metadata": {},
   "outputs": [
    {
     "name": "stdout",
     "output_type": "stream",
     "text": [
      "0 번째 캐시 블록 값 :  4\n",
      "1 번째 캐시 블록 값 :  22\n",
      "2 번째 캐시 블록 값 :  0\n",
      "3 번째 캐시 블록 값 :  10\n",
      "적중률 :  4 / 30\n"
     ]
    }
   ],
   "source": [
    "cacheSize = 4\n",
    "cache = []\n",
    "index_list = [0, 0, 0, 0]\n",
    "hit : int = 0\n",
    "    \n",
    "for i in range (0, len(int_data)):\n",
    "    for ref in int_data:\n",
    "        if (ref != 99):\n",
    "            if not ref in cache:\n",
    "                if len(cache) < cacheSize:\n",
    "                    cache.append(ref)\n",
    "                    cache.index(ref)\n",
    "                    index_list[cache.index(ref)] += 1\n",
    "                    \n",
    "                    for i in range (1, len(index_list)):\n",
    "                        if (index_list[cache.index(ref) - i] != 0):\n",
    "                            index_list[cache.index(ref) -i] += 1\n",
    "                else:\n",
    "                    cache.pop(index_list.index(max(index_list)))\n",
    "                    cache.insert(index_list.index(max(index_list)), ref)\n",
    "                    index_list[index_list.index(max(index_list))] = 0\n",
    "                    for i in range (0, len(index_list)):\n",
    "                        index_list[i] += 1\n",
    "            else:\n",
    "                index_list[cache.index(ref)] = 0\n",
    "                for i in range (0, len(index_list)):\n",
    "                        index_list[i] += 1\n",
    "                hit += 1\n",
    "    else:\n",
    "        break\n",
    "for i in range (0, len(cache)):\n",
    "    print(i, \"번째 캐시 블록 값 : \", cache[i])\n",
    "print(\"적중률 : \", hit, \"/\", len(int_data) - 1)"
   ]
  },
  {
   "cell_type": "code",
   "execution_count": null,
   "id": "863b86f6",
   "metadata": {},
   "outputs": [],
   "source": []
  }
 ],
 "metadata": {
  "kernelspec": {
   "display_name": "Python 3 (ipykernel)",
   "language": "python",
   "name": "python3"
  },
  "language_info": {
   "codemirror_mode": {
    "name": "ipython",
    "version": 3
   },
   "file_extension": ".py",
   "mimetype": "text/x-python",
   "name": "python",
   "nbconvert_exporter": "python",
   "pygments_lexer": "ipython3",
   "version": "3.9.12"
  }
 },
 "nbformat": 4,
 "nbformat_minor": 5
}
