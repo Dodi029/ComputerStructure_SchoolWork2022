{
 "cells": [
  {
   "cell_type": "code",
   "execution_count": 23,
   "id": "47399642",
   "metadata": {},
   "outputs": [],
   "source": [
    "import numpy as np\n",
    "import os\n",
    "os.getcwd()\n",
    "\n",
    "f = open('/Users/doyoung/학교/Python_Programming_JupyterNotebook/데이터/input.txt', 'r', encoding='utf-8')\n",
    "reference = f.readlines()\n",
    "f.close()\n",
    "\n",
    "data = reference[0].split(' ')\n",
    "int_data = []\n",
    "for num in data:\n",
    "    int_data.append(int(num))\n",
    "#int_data"
   ]
  },
  {
   "cell_type": "code",
   "execution_count": 24,
   "id": "ff786a81",
   "metadata": {},
   "outputs": [
    {
     "name": "stdout",
     "output_type": "stream",
     "text": [
      "블록 번호 : [22, 10, 4, 0]  적중률 : 4 / 30\n"
     ]
    }
   ],
   "source": [
    "cacheSize = 4\n",
    "cache = []\n",
    "n : int = 0\n",
    "for i in range (0, len(int_data)):\n",
    "    for ref in int_data:\n",
    "        if (ref != 99):\n",
    "            if not ref in cache:\n",
    "                if len(cache) < cacheSize:\n",
    "                    cache.append(ref)\n",
    "                else:\n",
    "                    cache.pop(0)\n",
    "                    cache.append(ref)\n",
    "            else:\n",
    "                cache.pop(cache.index(ref))\n",
    "                cache.append(ref)\n",
    "                n += 1\n",
    "    else:\n",
    "        break\n",
    "print(\"블록 번호 :\", cache, \" 적중률 :\", n, \"/\", len(int_data)-1)"
   ]
  }
 ],
 "metadata": {
  "kernelspec": {
   "display_name": "Python 3 (ipykernel)",
   "language": "python",
   "name": "python3"
  },
  "language_info": {
   "codemirror_mode": {
    "name": "ipython",
    "version": 3
   },
   "file_extension": ".py",
   "mimetype": "text/x-python",
   "name": "python",
   "nbconvert_exporter": "python",
   "pygments_lexer": "ipython3",
   "version": "3.9.12"
  }
 },
 "nbformat": 4,
 "nbformat_minor": 5
}
